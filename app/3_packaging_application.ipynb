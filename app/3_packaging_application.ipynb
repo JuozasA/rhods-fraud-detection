{
 "cells": [
  {
   "cell_type": "markdown",
   "id": "57c2f398-169f-4966-992c-1ea8227eb97d",
   "metadata": {},
   "source": [
    "# Packaging our Application \n",
    "\n",
    "Now that the application code is working, we’re ready to package it as a container image, and have it running directly into OpenShift as a service you will be able to call from any other application.\n",
    "\n",
    "Note: the application code is available in the same repo we’ve been using before, but in the app branch. It is the same content as we had in our notebooks, except that instead of passing an image name to the prediction function, we will be able to directly upload transactions!"
   ]
  },
  {
   "cell_type": "markdown",
   "id": "296cd40f-3d77-4d0a-b2e3-88925c14f227",
   "metadata": {},
   "source": [
    "# Building the application inside OpenShift\n",
    "\n",
    "Open your OpenShift UI and make sure you are in the developer view (see the menu on the top left):\n",
    "![alt text](images/dev_view.png \"Title\")"
   ]
  },
  {
   "cell_type": "markdown",
   "id": "41d8691d-cb2f-43ee-9380-3274d18bb247",
   "metadata": {},
   "source": [
    "Make sure you are in the right project that was assigned to you: \n",
    "![alt text](images/select_project.png \"Title\")"
   ]
  },
  {
   "cell_type": "markdown",
   "id": "a8cd273c-cac5-4676-9c9d-cc7c851bcc6d",
   "metadata": {},
   "source": [
    "From the +Add menu, click on the From Git tile:\n",
    "\n",
    "![alt text](images/from_git.png \"Title\")"
   ]
  },
  {
   "cell_type": "markdown",
   "id": "f896a3b9-4b86-4837-bdbc-7a6361c2bf60",
   "metadata": {},
   "source": [
    "* In the `Git Repo URL` field, enter: `https://github.com/OpenShiftDemos/rhods-fraud-detection.git`\n",
    "\n",
    "* Under `Show Advanced Git Options`, set `Git reference` to `main` and set `Context dir` to `/app`.\n",
    "\n",
    "* Leave all other settings the same, and scroll to the bottom of the options and click 'create'. \n",
    "\n",
    "The automated building process will take a few minutes. Some Alerts may appear if OpenShift tries to deploy while the build is still running, but that’s OK. Then OpenShift will deploy the application (rollout).\n",
    "\n",
    "Click on the deployment.\n",
    "If you scroll down on the detail panel, you will see the route that was created for your application. This is the URL you will use to send images. Copy and paste it into the cell below:\n"
   ]
  },
  {
   "cell_type": "code",
   "execution_count": null,
   "id": "0dda33a5-02c3-4824-9d2d-1ed9e1405bfa",
   "metadata": {},
   "outputs": [],
   "source": []
  },
  {
   "cell_type": "code",
   "execution_count": 9,
   "id": "983f2360-8061-43dd-aeaa-bfa37a43b531",
   "metadata": {},
   "outputs": [
    {
     "data": {
      "text/plain": [
       "{'prediction': 'legitimate'}"
      ]
     },
     "execution_count": 9,
     "metadata": {},
     "output_type": "execute_result"
    }
   ],
   "source": [
    "my_route = 'http://rhods-fraud-detection-git-sophie-app.apps.pilot.j61u.p1.openshiftapps.com' ##You must paste the route to your application in here\n",
    "\n",
    "\n",
    "import requests\n",
    "my_req = '{\"user_id\": 1698, \"amount\": 7915, \"merchant_id\": 22.37, \"trans_type\": \"contactless\", \"foreign\": \"False\", \"interarrival\": 9609}'\n",
    "\n",
    "response = requests.post(my_route + '/predictions', my_req)\n",
    "response.json()"
   ]
  },
  {
   "cell_type": "code",
   "execution_count": null,
   "id": "fd54f44c-bfd5-446d-ad36-6de9344a3d3f",
   "metadata": {},
   "outputs": [],
   "source": []
  }
 ],
 "metadata": {
  "kernelspec": {
   "display_name": "Python 3",
   "language": "python",
   "name": "python3"
  },
  "language_info": {
   "codemirror_mode": {
    "name": "ipython",
    "version": 3
   },
   "file_extension": ".py",
   "mimetype": "text/x-python",
   "name": "python",
   "nbconvert_exporter": "python",
   "pygments_lexer": "ipython3",
   "version": "3.8.6"
  }
 },
 "nbformat": 4,
 "nbformat_minor": 5
}
