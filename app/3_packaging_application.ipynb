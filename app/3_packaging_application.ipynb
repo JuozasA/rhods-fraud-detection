{
 "cells": [
  {
   "cell_type": "markdown",
   "source": [
    "# Packaging our Application \n",
    "\n",
    "Now that the application code is working, we’re ready to package it as a container image, and have it running directly into OpenShift as a service you will be able to call from any other application.\n",
    "\n",
    "Note: the application code is available in the same repo we’ve been using before, but in the app folder. It is the same content as we had in our notebooks, except that instead of passing an image name to the prediction function, we will be able to directly upload transactions!"
   ],
   "metadata": {}
  },
  {
   "cell_type": "markdown",
   "source": [
    "# Building the application inside OpenShift\n",
    "In the browser tab where you have your username, password, lab instructions, and other details, find the \"OpenShift Console\" URL. Click it and log in to the OpenShift web console using the username and password provided. When you first log in, you will probably want to click the \"Skip Tour\" button.\n",
    "\n",
    "Next, make sure you are select the developer context (by clicking the drop-down menu at the top left):\n",
    "\n",
    "![alt text](images/dev_view.png \"Title\")"
   ],
   "metadata": {}
  },
  {
   "cell_type": "markdown",
   "source": [
    "Your JupyterHub Notebook is running in a special project managed by the Red Hat OpenShift Data Science Operator. You don't have access to that project, so you can't see it. To build and deploy your own model container image, you will need an OpenShift Project that you can see and manage.\n",
    "\n",
    "**READ THE FOLLOWING SLOWLY**\n",
    "\n",
    "Click the \"Project\" drop down and then \"Create Project.\" Enter your username and append `-model` to the project name. For example, if you are `userX`, you will want to call your project `userX-model`. \n",
    "\n",
    "**MAKE SURE THAT YOU USE YOUR ACTUAL USERNAME AND NOT USERX**\n",
    "\n",
    "Some of you will inevitably simply copy and paste the project name. This is not what you should do. If you blindly copy-paste it, it will likely not work. That is bad.\n",
    "\n",
    "![alt text](images/select_project.png \"Title\")"
   ],
   "metadata": {}
  },
  {
   "cell_type": "markdown",
   "source": [
    "Once you have created your project, make sure that you see it in the dropdown. If for some reason you do not see it, click the Project dropdown and select it.\n",
    "\n",
    "Next, click \"+Add\", and then click the \"From Git\" card:\n",
    "\n",
    "![alt text](images/from_git.png \"Title\")"
   ],
   "metadata": {}
  },
  {
   "cell_type": "markdown",
   "source": [
    "* In the `Git Repo URL` field, enter: `https://github.com/OpenShiftDemos/rhods-fraud-detection`\n",
    "\n",
    "* Under `Show Advanced Git Options`, make sure the `Git reference` is blank, and set `Context dir` to `/app`.\n",
    "\n",
    "* Leave all other settings the same, and scroll to the bottom of the options and click 'Create'. \n",
    "\n",
    "The automated building process will take a few minutes. Some Alerts may appear if OpenShift tries to deploy the image while the build is still running, but that’s OK. This is because, until the build completes, it can't find the image -- it wasn't created yet! Ultimately, OpenShift will deploy the application (model image). You will know that it is deployed because the topology icon will change from a light blue to a darker blue ring.\n",
    "\n",
    "Click on the Deployment:\n",
    "\n",
    "![topology iconography](images/model_topology.png \"Model Topology\")\n",
    "\n",
    "If you scroll down on the detail panel, you will see the route that was created for your application:\n",
    "\n",
    "![route](images/route.png \"Route\")\n",
    "\n",
    " This is the URL you will use to send data for prediction. Copy and paste the URL into the cell below and then run the cell. You will get a prediction back. Your model is serving predictions from inside a container inside the OpenShift cluster!\n"
   ],
   "metadata": {}
  },
  {
   "cell_type": "code",
   "execution_count": null,
   "source": [
    "## YOU MUST PASTE YOUR OWN ROUTE INFORMATION HERE\n",
    "my_route = 'http://CHANGE.URL.TO.YOUR.ROUTE'\n",
    "## YOU MUST PASTE YOUR OWN ROUTE INFORMATION HERE\n",
    "\n",
    "\n",
    "import requests\n",
    "my_req = '{\"user_id\": 1698, \"amount\": 7915, \"merchant_id\": 22.37, \"trans_type\": \"contactless\", \"foreign\": \"False\", \"interarrival\": 9609}'\n",
    "\n",
    "response = requests.post(my_route + '/predictions', my_req)\n",
    "response.json()"
   ],
   "outputs": [],
   "metadata": {}
  }
 ],
 "metadata": {
  "kernelspec": {
   "display_name": "Python 3",
   "language": "python",
   "name": "python3"
  },
  "language_info": {
   "codemirror_mode": {
    "name": "ipython",
    "version": 3
   },
   "file_extension": ".py",
   "mimetype": "text/x-python",
   "name": "python",
   "nbconvert_exporter": "python",
   "pygments_lexer": "ipython3",
   "version": "3.8.3"
  }
 },
 "nbformat": 4,
 "nbformat_minor": 5
}