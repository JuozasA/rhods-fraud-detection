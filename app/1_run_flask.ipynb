{
 "cells": [
  {
   "cell_type": "markdown",
   "metadata": {},
   "source": [
    "## Run Flask\n",
    "\n",
    "Our application developer set us up a flask app, which loads the pipeline and makes predictions using the prediction.py. In this notebook, we run the flask app from inside the notebook, and we will test it in the next notebook: \n",
    "\n",
    "Run your flask app (`wsgi.py`) from here and test it from a separate notebook.\n"
   ]
  },
  {
   "cell_type": "code",
   "execution_count": 3,
   "metadata": {},
   "outputs": [
    {
     "name": "stdout",
     "output_type": "stream",
     "text": [
      "Requirement already satisfied: Flask in /opt/app-root/lib/python3.8/site-packages (from -r requirements.txt (line 1)) (2.0.1)\n",
      "Requirement already satisfied: gunicorn in /opt/app-root/lib/python3.8/site-packages (from -r requirements.txt (line 2)) (20.1.0)\n",
      "Requirement already satisfied: numpy==1.18.1 in /opt/app-root/lib/python3.8/site-packages (from -r requirements.txt (line 3)) (1.18.1)\n",
      "Requirement already satisfied: scipy==1.4.1 in /opt/app-root/lib/python3.8/site-packages (from -r requirements.txt (line 4)) (1.4.1)\n",
      "Requirement already satisfied: pandas==1.0.3 in /opt/app-root/lib/python3.8/site-packages (from -r requirements.txt (line 5)) (1.0.3)\n",
      "Requirement already satisfied: scikit-learn==0.22.1 in /opt/app-root/lib/python3.8/site-packages (from -r requirements.txt (line 6)) (0.22.1)\n",
      "Requirement already satisfied: pyarrow==0.16.0 in /opt/app-root/lib/python3.8/site-packages (from -r requirements.txt (line 7)) (0.16.0)\n",
      "Requirement already satisfied: cloudpickle==1.2.1 in /opt/app-root/lib/python3.8/site-packages (from -r requirements.txt (line 8)) (1.2.1)\n",
      "Requirement already satisfied: pytz>=2017.2 in /opt/app-root/lib/python3.8/site-packages (from pandas==1.0.3->-r requirements.txt (line 5)) (2021.1)\n",
      "Requirement already satisfied: python-dateutil>=2.6.1 in /opt/app-root/lib/python3.8/site-packages (from pandas==1.0.3->-r requirements.txt (line 5)) (2.8.1)\n",
      "Requirement already satisfied: joblib>=0.11 in /opt/app-root/lib/python3.8/site-packages (from scikit-learn==0.22.1->-r requirements.txt (line 6)) (1.0.1)\n",
      "Requirement already satisfied: six>=1.0.0 in /opt/app-root/lib/python3.8/site-packages (from pyarrow==0.16.0->-r requirements.txt (line 7)) (1.16.0)\n",
      "Requirement already satisfied: itsdangerous>=2.0 in /opt/app-root/lib/python3.8/site-packages (from Flask->-r requirements.txt (line 1)) (2.0.1)\n",
      "Requirement already satisfied: click>=7.1.2 in /opt/app-root/lib/python3.8/site-packages (from Flask->-r requirements.txt (line 1)) (8.0.1)\n",
      "Requirement already satisfied: Werkzeug>=2.0 in /opt/app-root/lib/python3.8/site-packages (from Flask->-r requirements.txt (line 1)) (2.0.1)\n",
      "Requirement already satisfied: Jinja2>=3.0 in /opt/app-root/lib/python3.8/site-packages (from Flask->-r requirements.txt (line 1)) (3.0.1)\n",
      "Requirement already satisfied: MarkupSafe>=2.0 in /opt/app-root/lib/python3.8/site-packages (from Jinja2>=3.0->Flask->-r requirements.txt (line 1)) (2.0.1)\n",
      "Requirement already satisfied: setuptools>=3.0 in /opt/app-root/lib/python3.8/site-packages (from gunicorn->-r requirements.txt (line 2)) (57.0.0)\n",
      "\u001b[33mWARNING: You are using pip version 21.1.3; however, version 21.2.4 is available.\n",
      "You should consider upgrading via the '/opt/app-root/bin/python3.8 -m pip install --upgrade pip' command.\u001b[0m\n"
     ]
    }
   ],
   "source": [
    "import sys\n",
    "!{sys.executable} -m pip install -r requirements.txt"
   ]
  },
  {
   "cell_type": "code",
   "execution_count": null,
   "metadata": {},
   "outputs": [
    {
     "name": "stdout",
     "output_type": "stream",
     "text": [
      " * Serving Flask app 'wsgi.py' (lazy loading)\n",
      " * Environment: development\n",
      " * Debug mode: on\n",
      " * Running on http://127.0.0.1:5000/ (Press CTRL+C to quit)\n",
      " * Restarting with watchdog (inotify)\n",
      " * Debugger is active!\n",
      " * Debugger PIN: 100-103-923\n",
      "127.0.0.1 - - [28/Sep/2021 17:49:18] \"GET /status HTTP/1.1\" 200 -\n",
      "127.0.0.1 - - [28/Sep/2021 17:49:18] \"POST /predictions HTTP/1.1\" 200 -\n"
     ]
    }
   ],
   "source": [
    "!FLASK_ENV=development FLASK_APP=wsgi.py flask run"
   ]
  },
  {
   "cell_type": "markdown",
   "metadata": {},
   "source": [
    "Leave the notebook cell above running (in the [*] state) and move on to the next notebook, [2_test_flask.ipynb](2_test_flask.ipynb) to interact with the flask service."
   ]
  },
  {
   "cell_type": "code",
   "execution_count": null,
   "metadata": {},
   "outputs": [],
   "source": []
  }
 ],
 "metadata": {
  "kernelspec": {
   "display_name": "Python 3",
   "language": "python",
   "name": "python3"
  },
  "language_info": {
   "codemirror_mode": {
    "name": "ipython",
    "version": 3
   },
   "file_extension": ".py",
   "mimetype": "text/x-python",
   "name": "python",
   "nbconvert_exporter": "python",
   "pygments_lexer": "ipython3",
   "version": "3.8.6"
  }
 },
 "nbformat": 4,
 "nbformat_minor": 4
}
