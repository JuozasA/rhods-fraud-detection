{
 "cells": [
  {
   "cell_type": "markdown",
   "source": [
    "## Run Flask\n",
    "\n",
    "Our application developer set us up a flask app, which loads the pipeline and makes predictions using the prediction.py. In this notebook, we run the flask app from inside the notebook, and we will test it in the next notebook: \n",
    "\n",
    "Run your flask app (`wsgi.py`) from here and test it from a separate notebook.\n"
   ],
   "metadata": {}
  },
  {
   "cell_type": "code",
   "execution_count": null,
   "source": [
    "!FLASK_ENV=development FLASK_APP=wsgi.py flask run"
   ],
   "outputs": [],
   "metadata": {}
  },
  {
   "cell_type": "markdown",
   "source": [
    "Leave the notebook cell above running (in the [*] state) and move on to the next notebook, [2_test_flask.ipynb](2_test_flask.ipynb) to interact with the flask service."
   ],
   "metadata": {}
  }
 ],
 "metadata": {
  "kernelspec": {
   "display_name": "Python 3",
   "language": "python",
   "name": "python3"
  },
  "language_info": {
   "codemirror_mode": {
    "name": "ipython",
    "version": 3
   },
   "file_extension": ".py",
   "mimetype": "text/x-python",
   "name": "python",
   "nbconvert_exporter": "python",
   "pygments_lexer": "ipython3",
   "version": "3.8.6"
  }
 },
 "nbformat": 4,
 "nbformat_minor": 4
}